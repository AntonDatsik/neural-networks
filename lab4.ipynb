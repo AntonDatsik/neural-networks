{
 "cells": [
  {
   "cell_type": "markdown",
   "metadata": {},
   "source": [
    "# Лабораторная работа №4. Реализация приложения по распознаванию номеров домов.\n"
   ]
  },
  {
   "cell_type": "code",
   "execution_count": 38,
   "metadata": {},
   "outputs": [],
   "source": [
    "import numpy as np\n",
    "import matplotlib.pyplot as plt\n",
    "import random\n",
    "%matplotlib inline"
   ]
  },
  {
   "cell_type": "markdown",
   "metadata": {},
   "source": [
    "## Задание 1.\n",
    "Реализуйте глубокую нейронную сеть (полносвязную или сверточную) и обучите ее на синтетических данных (например, наборы MNIST (http://yann.lecun.com/exdb/mnist/) или notMNIST).\n",
    "Ознакомьтесь с имеющимися работами по данной тематике: англоязычная статья (http://static.googleusercontent.com/media/research.google.com/en//pubs/archive/42241.pdf), видео на YouTube (https://www.youtube.com/watch?v=vGPI_JvLoN0)."
   ]
  },
  {
   "cell_type": "code",
   "execution_count": 39,
   "metadata": {},
   "outputs": [],
   "source": [
    "from tensorflow.keras.datasets import mnist\n",
    "\n",
    "(X_train, y_train), (X_test, y_test) = mnist.load_data()\n",
    "\n",
    "X_train = np.expand_dims(X_train, axis=-1)\n",
    "X_test = np.expand_dims(X_test, axis=-1)"
   ]
  },
  {
   "cell_type": "code",
   "execution_count": 40,
   "metadata": {},
   "outputs": [
    {
     "name": "stdout",
     "output_type": "stream",
     "text": [
      "Model: \"sequential_4\"\n",
      "_________________________________________________________________\n",
      "Layer (type)                 Output Shape              Param #   \n",
      "=================================================================\n",
      "conv2d_8 (Conv2D)            (None, 28, 28, 32)        320       \n",
      "_________________________________________________________________\n",
      "max_pooling2d_8 (MaxPooling2 (None, 14, 14, 32)        0         \n",
      "_________________________________________________________________\n",
      "conv2d_9 (Conv2D)            (None, 14, 14, 64)        18496     \n",
      "_________________________________________________________________\n",
      "max_pooling2d_9 (MaxPooling2 (None, 7, 7, 64)          0         \n",
      "_________________________________________________________________\n",
      "flatten_4 (Flatten)          (None, 3136)              0         \n",
      "_________________________________________________________________\n",
      "dense_8 (Dense)              (None, 512)               1606144   \n",
      "_________________________________________________________________\n",
      "dense_9 (Dense)              (None, 10)                5130      \n",
      "=================================================================\n",
      "Total params: 1,630,090\n",
      "Trainable params: 1,630,090\n",
      "Non-trainable params: 0\n",
      "_________________________________________________________________\n"
     ]
    }
   ],
   "source": [
    "from tensorflow.keras.models import Sequential\n",
    "from tensorflow.keras.layers import Conv2D, MaxPooling2D, Flatten, Dense\n",
    "\n",
    "network = Sequential([\n",
    "    Conv2D(32, (3, 3), padding='same', input_shape=(28, 28, 1), activation='relu'),\n",
    "    MaxPooling2D(pool_size=(2, 2)),\n",
    "    Conv2D(64, (3, 3), padding='same', activation='relu'),\n",
    "    MaxPooling2D(pool_size=(2, 2)),\n",
    "    Flatten(),\n",
    "    Dense(512, activation='relu'),\n",
    "    Dense(10, Activation('softmax'))\n",
    "])\n",
    "\n",
    "network.summary()"
   ]
  },
  {
   "cell_type": "code",
   "execution_count": 41,
   "metadata": {},
   "outputs": [
    {
     "name": "stdout",
     "output_type": "stream",
     "text": [
      "Train on 60000 samples, validate on 10000 samples\n",
      "Epoch 1/10\n",
      "60000/60000 [==============================] - 27s 447us/sample - loss: 0.8341 - accuracy: 0.9351 - val_loss: 0.0671 - val_accuracy: 0.9768\n",
      "Epoch 2/10\n",
      "60000/60000 [==============================] - 26s 440us/sample - loss: 0.0469 - accuracy: 0.9851 - val_loss: 0.0630 - val_accuracy: 0.9813\n",
      "Epoch 3/10\n",
      "60000/60000 [==============================] - 25s 425us/sample - loss: 0.0301 - accuracy: 0.9898 - val_loss: 0.0556 - val_accuracy: 0.9821\n",
      "Epoch 4/10\n",
      "60000/60000 [==============================] - 27s 456us/sample - loss: 0.0184 - accuracy: 0.9935 - val_loss: 0.0568 - val_accuracy: 0.9854\n",
      "Epoch 5/10\n",
      "60000/60000 [==============================] - 25s 414us/sample - loss: 0.0155 - accuracy: 0.9950 - val_loss: 0.0585 - val_accuracy: 0.9850\n",
      "Epoch 6/10\n",
      "60000/60000 [==============================] - 26s 428us/sample - loss: 0.0216 - accuracy: 0.9930 - val_loss: 0.0574 - val_accuracy: 0.9866\n",
      "Epoch 7/10\n",
      "60000/60000 [==============================] - 24s 406us/sample - loss: 0.0131 - accuracy: 0.9958 - val_loss: 0.0589 - val_accuracy: 0.9851\n",
      "Epoch 8/10\n",
      "60000/60000 [==============================] - 25s 424us/sample - loss: 0.0170 - accuracy: 0.9947 - val_loss: 0.0629 - val_accuracy: 0.9845\n",
      "Epoch 9/10\n",
      "60000/60000 [==============================] - 25s 419us/sample - loss: 0.0130 - accuracy: 0.9956 - val_loss: 0.0723 - val_accuracy: 0.9848\n",
      "Epoch 10/10\n",
      "60000/60000 [==============================] - 25s 409us/sample - loss: 0.0126 - accuracy: 0.9961 - val_loss: 0.0570 - val_accuracy: 0.9872\n"
     ]
    },
    {
     "data": {
      "text/plain": [
       "<tensorflow.python.keras.callbacks.History at 0x14ad5f1d0>"
      ]
     },
     "execution_count": 41,
     "metadata": {},
     "output_type": "execute_result"
    }
   ],
   "source": [
    "network.compile(optimizer='adam', loss='sparse_categorical_crossentropy', metrics=['accuracy'])\n",
    "network.fit(X_train, y_train, validation_data=(X_test, y_test), batch_size=128, epochs=10)"
   ]
  },
  {
   "cell_type": "code",
   "execution_count": 42,
   "metadata": {},
   "outputs": [
    {
     "name": "stdout",
     "output_type": "stream",
     "text": [
      "10000/10000 [==============================] - 2s 185us/sample - loss: 0.0570 - accuracy: 0.9872\n"
     ]
    },
    {
     "data": {
      "text/plain": [
       "[0.057024893728429775, 0.9872]"
      ]
     },
     "execution_count": 42,
     "metadata": {},
     "output_type": "execute_result"
    }
   ],
   "source": [
    "network.evaluate(X_test, y_test)"
   ]
  },
  {
   "cell_type": "markdown",
   "metadata": {},
   "source": [
    "## Задание 2.\n",
    "После уточнения модели на синтетических данных попробуйте обучить ее на реальных данных (набор Google Street View). Что изменилось в модели?"
   ]
  },
  {
   "cell_type": "code",
   "execution_count": 43,
   "metadata": {},
   "outputs": [],
   "source": [
    "import os\n",
    "import urllib\n",
    "\n",
    "\n",
    "dataset_path = os.path.join('data', 'housenumbers')\n",
    "os.makedirs(dataset_path, exist_ok=True)\n",
    "\n",
    "files_for_download = [\n",
    "    ('http://ufldl.stanford.edu/housenumbers/train_32x32.mat', os.path.join(dataset_path, 'train_32x32.mat')),\n",
    "    ('http://ufldl.stanford.edu/housenumbers/test_32x32.mat', os.path.join(dataset_path, 'test_32x32.mat')),\n",
    "]\n",
    "\n",
    "for url, dest in files_for_download:\n",
    "    if not os.path.exists(dest):\n",
    "        urllib.request.urlretrieve(url, dest)"
   ]
  },
  {
   "cell_type": "code",
   "execution_count": 44,
   "metadata": {},
   "outputs": [],
   "source": [
    "import scipy.io\n",
    "from sklearn.model_selection import train_test_split\n",
    "\n",
    "train = scipy.io.loadmat(os.path.join(dataset_path, 'train_32x32.mat'))\n",
    "X_train, y_train = train[\"X\"], train[\"y\"]\n",
    "\n",
    "X_train = np.moveaxis(X_train, -1, 0)\n",
    "y_train = y_train.flatten() - 1\n",
    "\n",
    "X_train, X_val, y_train, y_val = train_test_split(X_train, y_train, test_size=0.2, random_state=42)"
   ]
  },
  {
   "cell_type": "code",
   "execution_count": 45,
   "metadata": {},
   "outputs": [],
   "source": [
    "test = scipy.io.loadmat(os.path.join(dataset_path, 'test_32x32.mat'))\n",
    "X_test, y_test = test[\"X\"], test[\"y\"]\n",
    "\n",
    "X_test = np.moveaxis(X_test, -1, 0)\n",
    "y_test = y_test.flatten() - 1"
   ]
  },
  {
   "cell_type": "code",
   "execution_count": 46,
   "metadata": {},
   "outputs": [
    {
     "name": "stdout",
     "output_type": "stream",
     "text": [
      "Model: \"sequential_5\"\n",
      "_________________________________________________________________\n",
      "Layer (type)                 Output Shape              Param #   \n",
      "=================================================================\n",
      "conv2d_10 (Conv2D)           (None, 32, 32, 32)        896       \n",
      "_________________________________________________________________\n",
      "max_pooling2d_10 (MaxPooling (None, 16, 16, 32)        0         \n",
      "_________________________________________________________________\n",
      "conv2d_11 (Conv2D)           (None, 16, 16, 64)        18496     \n",
      "_________________________________________________________________\n",
      "max_pooling2d_11 (MaxPooling (None, 8, 8, 64)          0         \n",
      "_________________________________________________________________\n",
      "flatten_5 (Flatten)          (None, 4096)              0         \n",
      "_________________________________________________________________\n",
      "dense_10 (Dense)             (None, 512)               2097664   \n",
      "_________________________________________________________________\n",
      "dense_11 (Dense)             (None, 10)                5130      \n",
      "=================================================================\n",
      "Total params: 2,122,186\n",
      "Trainable params: 2,122,186\n",
      "Non-trainable params: 0\n",
      "_________________________________________________________________\n"
     ]
    }
   ],
   "source": [
    "from tensorflow.keras.models import Sequential\n",
    "from tensorflow.keras.layers import Conv2D, MaxPooling2D, Flatten, Dense\n",
    "\n",
    "network = Sequential([\n",
    "    Conv2D(32, (3, 3), padding='same', input_shape=(32, 32, 3), activation='relu'),\n",
    "    MaxPooling2D(pool_size=(2, 2)),\n",
    "    Conv2D(64, (3, 3), padding='same', activation='relu'),\n",
    "    MaxPooling2D(pool_size=(2, 2)),\n",
    "    Flatten(),\n",
    "    Dense(512, activation='relu'),\n",
    "    Dense(10, Activation('softmax'))\n",
    "])\n",
    "\n",
    "network.summary()"
   ]
  },
  {
   "cell_type": "code",
   "execution_count": 47,
   "metadata": {},
   "outputs": [
    {
     "name": "stdout",
     "output_type": "stream",
     "text": [
      "Train on 58605 samples, validate on 14652 samples\n",
      "Epoch 1/10\n",
      "58605/58605 [==============================] - 35s 597us/sample - loss: 3.9699 - accuracy: 0.5656 - val_loss: 0.8315 - val_accuracy: 0.7503\n",
      "Epoch 2/10\n",
      "58605/58605 [==============================] - 35s 592us/sample - loss: 0.7459 - accuracy: 0.7769 - val_loss: 0.7399 - val_accuracy: 0.7774\n",
      "Epoch 3/10\n",
      "58605/58605 [==============================] - 35s 597us/sample - loss: 0.6192 - accuracy: 0.8145 - val_loss: 0.6461 - val_accuracy: 0.8099\n",
      "Epoch 4/10\n",
      "58605/58605 [==============================] - 34s 588us/sample - loss: 0.5411 - accuracy: 0.8391 - val_loss: 0.6158 - val_accuracy: 0.8220\n",
      "Epoch 5/10\n",
      "58605/58605 [==============================] - 35s 590us/sample - loss: 0.4819 - accuracy: 0.8539 - val_loss: 0.5990 - val_accuracy: 0.8306\n",
      "Epoch 6/10\n",
      "58605/58605 [==============================] - 35s 589us/sample - loss: 0.4415 - accuracy: 0.8656 - val_loss: 0.6222 - val_accuracy: 0.8266\n",
      "Epoch 7/10\n",
      "58605/58605 [==============================] - 34s 581us/sample - loss: 0.3996 - accuracy: 0.8773 - val_loss: 0.6811 - val_accuracy: 0.8144\n",
      "Epoch 8/10\n",
      "58605/58605 [==============================] - 34s 576us/sample - loss: 0.3553 - accuracy: 0.8913 - val_loss: 0.6565 - val_accuracy: 0.8314\n",
      "Epoch 9/10\n",
      "58605/58605 [==============================] - 34s 588us/sample - loss: 0.3235 - accuracy: 0.9001 - val_loss: 0.6919 - val_accuracy: 0.8264\n",
      "Epoch 10/10\n",
      "58605/58605 [==============================] - 35s 589us/sample - loss: 0.2982 - accuracy: 0.9079 - val_loss: 0.7152 - val_accuracy: 0.8307\n",
      "26032/26032 [==============================] - 5s 207us/sample - loss: 0.9038 - accuracy: 0.8065\n"
     ]
    },
    {
     "data": {
      "text/plain": [
       "[0.9038421362638474, 0.80646896]"
      ]
     },
     "execution_count": 47,
     "metadata": {},
     "output_type": "execute_result"
    }
   ],
   "source": [
    "network.compile(optimizer='adam', loss='sparse_categorical_crossentropy', metrics=['accuracy'])\n",
    "network.fit(X_train, y_train, validation_data=(X_val, y_val), batch_size=128, epochs=10)\n",
    "\n",
    "network.evaluate(X_test, y_test)"
   ]
  }
 ],
 "metadata": {
  "kernelspec": {
   "display_name": "Python 3",
   "language": "python",
   "name": "python3"
  },
  "language_info": {
   "codemirror_mode": {
    "name": "ipython",
    "version": 3
   },
   "file_extension": ".py",
   "mimetype": "text/x-python",
   "name": "python",
   "nbconvert_exporter": "python",
   "pygments_lexer": "ipython3",
   "version": "3.7.5"
  }
 },
 "nbformat": 4,
 "nbformat_minor": 4
}
